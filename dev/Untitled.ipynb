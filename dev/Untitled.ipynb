{
 "cells": [
  {
   "cell_type": "code",
   "execution_count": 1,
   "id": "e748757a-0ad1-485e-bb34-3d30810fbaf3",
   "metadata": {},
   "outputs": [],
   "source": [
    "import bw2data as bd\n",
    "import bw2io as bi\n",
    "import bw_simapro_csv\n",
    "from pathlib import Path"
   ]
  },
  {
   "cell_type": "code",
   "execution_count": 2,
   "id": "4d1c6c65-feac-45e4-9112-fa2fc45da7e5",
   "metadata": {},
   "outputs": [],
   "source": [
    "fp = \"/Users/cmutel/Projects/IKEA SimaPro CSV import/ImprovedSwedishMeatballVersion-Simapro extract-yaw-19June2024.CSV\""
   ]
  },
  {
   "cell_type": "code",
   "execution_count": 3,
   "id": "1df465f1-7d5a-458a-946f-6a3e4c2a5b14",
   "metadata": {},
   "outputs": [
    {
     "name": "stderr",
     "output_type": "stream",
     "text": [
      "\u001b[32m2024-07-08 11:22:50.450\u001b[0m | \u001b[1mINFO    \u001b[0m | \u001b[36mbw_simapro_csv.main\u001b[0m:\u001b[36m__init__\u001b[0m:\u001b[36m119\u001b[0m - \u001b[1mWriting logs to /Users/cmutel/Library/Logs/bw_simapro_csv/ImprovedSwedishMeatballVersion-Simapro extract-yaw-19June2024-2024-07-08T11-22-50\u001b[0m\n",
      "\u001b[32m2024-07-08 11:22:50.460\u001b[0m | \u001b[33m\u001b[1mWARNING \u001b[0m | \u001b[36mbw_simapro_csv.header\u001b[0m:\u001b[36mparse_header\u001b[0m:\u001b[36m114\u001b[0m - \u001b[33m\u001b[1mCan't understand header line (skipping):\n",
      "\tExclude library processes: Yes\u001b[0m\n",
      "\u001b[32m2024-07-08 11:22:50.461\u001b[0m | \u001b[1mINFO    \u001b[0m | \u001b[36mbw_simapro_csv.main\u001b[0m:\u001b[36m__init__\u001b[0m:\u001b[36m142\u001b[0m - \u001b[1mUsing database name !MATERIAL DIRECTION (former Material Direction 2.0_FY21)\u001b[0m\n",
      "\u001b[32m2024-07-08 11:22:50.461\u001b[0m | \u001b[1mINFO    \u001b[0m | \u001b[36mbw_simapro_csv.main\u001b[0m:\u001b[36m__init__\u001b[0m:\u001b[36m147\u001b[0m - \u001b[1mSimaPro CSV import started.\n",
      "\tFile: /Users/cmutel/Projects/IKEA SimaPro CSV import/ImprovedSwedishMeatballVersion-Simapro extract-yaw-19June2024.CSV\n",
      "\tDelimiter: ;\n",
      "\tName: !MATERIAL DIRECTION (former Material Direction 2.0_FY21)\u001b[0m\n",
      "\u001b[32m2024-07-08 11:22:50.661\u001b[0m | \u001b[1mINFO    \u001b[0m | \u001b[36mbw_simapro_csv.main\u001b[0m:\u001b[36mresolve_parameters\u001b[0m:\u001b[36m314\u001b[0m - \u001b[1mExtracted and cleaned 74 process datasets\u001b[0m\n",
      "\u001b[32m2024-07-08 11:22:50.703\u001b[0m | \u001b[33m\u001b[1mWARNING \u001b[0m | \u001b[36mbw_simapro_csv.units\u001b[0m:\u001b[36mnormalize_units\u001b[0m:\u001b[36m112\u001b[0m - \u001b[33m\u001b[1mUnknown unit tkm used on line 357\u001b[0m\n",
      "\u001b[32m2024-07-08 11:22:50.704\u001b[0m | \u001b[33m\u001b[1mWARNING \u001b[0m | \u001b[36mbw_simapro_csv.units\u001b[0m:\u001b[36mnormalize_units\u001b[0m:\u001b[36m112\u001b[0m - \u001b[33m\u001b[1mUnknown unit dm3 used on line 709\u001b[0m\n",
      "\u001b[32m2024-07-08 11:22:50.704\u001b[0m | \u001b[33m\u001b[1mWARNING \u001b[0m | \u001b[36mbw_simapro_csv.units\u001b[0m:\u001b[36mnormalize_units\u001b[0m:\u001b[36m112\u001b[0m - \u001b[33m\u001b[1mUnknown unit MJ used on line 714\u001b[0m\n",
      "\u001b[32m2024-07-08 11:22:50.704\u001b[0m | \u001b[33m\u001b[1mWARNING \u001b[0m | \u001b[36mbw_simapro_csv.units\u001b[0m:\u001b[36mnormalize_units\u001b[0m:\u001b[36m112\u001b[0m - \u001b[33m\u001b[1mUnknown unit kWh used on line 950\u001b[0m\n",
      "\u001b[32m2024-07-08 11:22:50.705\u001b[0m | \u001b[33m\u001b[1mWARNING \u001b[0m | \u001b[36mbw_simapro_csv.units\u001b[0m:\u001b[36mnormalize_units\u001b[0m:\u001b[36m112\u001b[0m - \u001b[33m\u001b[1mUnknown unit m3 used on line 970\u001b[0m\n",
      "\u001b[32m2024-07-08 11:22:50.705\u001b[0m | \u001b[33m\u001b[1mWARNING \u001b[0m | \u001b[36mbw_simapro_csv.units\u001b[0m:\u001b[36mnormalize_units\u001b[0m:\u001b[36m112\u001b[0m - \u001b[33m\u001b[1mUnknown unit km used on line 2240\u001b[0m\n",
      "\u001b[32m2024-07-08 11:22:50.706\u001b[0m | \u001b[33m\u001b[1mWARNING \u001b[0m | \u001b[36mbw_simapro_csv.units\u001b[0m:\u001b[36mnormalize_units\u001b[0m:\u001b[36m112\u001b[0m - \u001b[33m\u001b[1mUnknown unit m2a used on line 2481\u001b[0m\n",
      "\u001b[32m2024-07-08 11:22:50.706\u001b[0m | \u001b[33m\u001b[1mWARNING \u001b[0m | \u001b[36mbw_simapro_csv.units\u001b[0m:\u001b[36mnormalize_units\u001b[0m:\u001b[36m112\u001b[0m - \u001b[33m\u001b[1mUnknown unit m2 used on line 2491\u001b[0m\n",
      "\u001b[32m2024-07-08 11:22:50.706\u001b[0m | \u001b[33m\u001b[1mWARNING \u001b[0m | \u001b[36mbw_simapro_csv.units\u001b[0m:\u001b[36mnormalize_units\u001b[0m:\u001b[36m112\u001b[0m - \u001b[33m\u001b[1mUnknown unit m3y used on line 2515\u001b[0m\n",
      "\u001b[32m2024-07-08 11:22:50.707\u001b[0m | \u001b[33m\u001b[1mWARNING \u001b[0m | \u001b[36mbw_simapro_csv.units\u001b[0m:\u001b[36mnormalize_units\u001b[0m:\u001b[36m112\u001b[0m - \u001b[33m\u001b[1mUnknown unit Bq used on line 3324\u001b[0m\n",
      "\u001b[32m2024-07-08 11:22:50.707\u001b[0m | \u001b[33m\u001b[1mWARNING \u001b[0m | \u001b[36mbw_simapro_csv.units\u001b[0m:\u001b[36mnormalize_units\u001b[0m:\u001b[36m112\u001b[0m - \u001b[33m\u001b[1mUnknown unit ha used on line 6094\u001b[0m\n",
      "\u001b[32m2024-07-08 11:22:50.708\u001b[0m | \u001b[33m\u001b[1mWARNING \u001b[0m | \u001b[36mbw_simapro_csv.units\u001b[0m:\u001b[36mnormalize_units\u001b[0m:\u001b[36m112\u001b[0m - \u001b[33m\u001b[1mUnknown unit p used on line 6231\u001b[0m\n",
      "\u001b[32m2024-07-08 11:22:50.708\u001b[0m | \u001b[33m\u001b[1mWARNING \u001b[0m | \u001b[36mbw_simapro_csv.units\u001b[0m:\u001b[36mnormalize_units\u001b[0m:\u001b[36m112\u001b[0m - \u001b[33m\u001b[1mUnknown unit kg*day used on line 6920\u001b[0m\n",
      "\u001b[32m2024-07-08 11:22:50.708\u001b[0m | \u001b[33m\u001b[1mWARNING \u001b[0m | \u001b[36mbw_simapro_csv.units\u001b[0m:\u001b[36mnormalize_units\u001b[0m:\u001b[36m112\u001b[0m - \u001b[33m\u001b[1mUnknown unit l used on line 7417\u001b[0m\n",
      "\u001b[32m2024-07-08 11:22:50.709\u001b[0m | \u001b[33m\u001b[1mWARNING \u001b[0m | \u001b[36mbw_simapro_csv.units\u001b[0m:\u001b[36mnormalize_units\u001b[0m:\u001b[36m112\u001b[0m - \u001b[33m\u001b[1mUnknown unit my used on line 8706\u001b[0m\n"
     ]
    }
   ],
   "source": [
    "sp = bw_simapro_csv.SimaProCSV(Path(fp))"
   ]
  },
  {
   "cell_type": "code",
   "execution_count": 4,
   "id": "5801a282-50bf-4db3-acb6-35c2b3468ae6",
   "metadata": {},
   "outputs": [
    {
     "name": "stderr",
     "output_type": "stream",
     "text": [
      "\u001b[32m2024-07-08 11:22:50.718\u001b[0m | \u001b[33m\u001b[1mWARNING \u001b[0m | \u001b[36mbw_simapro_csv.brightway\u001b[0m:\u001b[36mlci_to_brightway\u001b[0m:\u001b[36m135\u001b[0m - \u001b[33m\u001b[1mSkipping missing reference Ecoinvent 3; not present in given references []\u001b[0m\n",
      "\u001b[32m2024-07-08 11:22:50.719\u001b[0m | \u001b[33m\u001b[1mWARNING \u001b[0m | \u001b[36mbw_simapro_csv.brightway\u001b[0m:\u001b[36mlci_to_brightway\u001b[0m:\u001b[36m135\u001b[0m - \u001b[33m\u001b[1mSkipping missing reference Banque de donnée AGRIBALYSE V1.3/2016/ADEME; not present in given references []\u001b[0m\n"
     ]
    },
    {
     "data": {
      "text/plain": [
       "PosixPath('bw-output.json')"
      ]
     },
     "execution_count": 4,
     "metadata": {},
     "output_type": "execute_result"
    }
   ],
   "source": [
    "sp.to_brightway(Path(\"bw-output.json\"))"
   ]
  },
  {
   "cell_type": "code",
   "execution_count": null,
   "id": "b435fcca-27cb-4c5f-b079-1b0d098f94c7",
   "metadata": {},
   "outputs": [],
   "source": []
  },
  {
   "cell_type": "code",
   "execution_count": null,
   "id": "0b419adc-803a-49a4-82ae-a3d69d7a2d4b",
   "metadata": {},
   "outputs": [],
   "source": []
  }
 ],
 "metadata": {
  "kernelspec": {
   "display_name": "Python 3 (ipykernel)",
   "language": "python",
   "name": "python3"
  },
  "language_info": {
   "codemirror_mode": {
    "name": "ipython",
    "version": 3
   },
   "file_extension": ".py",
   "mimetype": "text/x-python",
   "name": "python",
   "nbconvert_exporter": "python",
   "pygments_lexer": "ipython3",
   "version": "3.12.4"
  }
 },
 "nbformat": 4,
 "nbformat_minor": 5
}
